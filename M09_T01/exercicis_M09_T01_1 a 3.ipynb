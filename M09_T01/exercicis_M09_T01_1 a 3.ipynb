{
 "cells": [
  {
   "cell_type": "markdown",
   "id": "a294c393",
   "metadata": {},
   "source": [
    "# Exercici 1"
   ]
  },
  {
   "cell_type": "code",
   "execution_count": 1,
   "id": "bc46ad75",
   "metadata": {},
   "outputs": [
    {
     "name": "stdout",
     "output_type": "stream",
     "text": [
      "[\"Yeah, there isn't enough focus on solving user problems.\", \"The foldable phone (more like an expandable tablet) is nice for\\nmarketing, but it doesn't address major user needs.\", 'In any case,\\nI will give it a try, but I am not very confident.', 'More to hear \\nabout solving those needs']\n",
      "\n",
      "['Yeah', ',', 'there', 'is', \"n't\", 'enough', 'focus', 'on', 'solving', 'user', 'problems', '.', 'The', 'foldable', 'phone', '(', 'more', 'like', 'an', 'expandable', 'tablet', ')', 'is', 'nice', 'for', 'marketing', ',', 'but', 'it', 'does', \"n't\", 'address', 'major', 'user', 'needs', '.', 'In', 'any', 'case', ',', 'I', 'will', 'give', 'it', 'a', 'try', ',', 'but', 'I', 'am', 'not', 'very', 'confident', '.', 'More', 'to', 'hear', 'about', 'solving', 'those', 'needs']\n"
     ]
    },
    {
     "name": "stderr",
     "output_type": "stream",
     "text": [
      "[nltk_data] Downloading package punkt to\n",
      "[nltk_data]     C:\\Users\\Ripley\\AppData\\Roaming\\nltk_data...\n",
      "[nltk_data]   Package punkt is already up-to-date!\n"
     ]
    }
   ],
   "source": [
    "# tokenitzar\n",
    "\n",
    "import nltk\n",
    "nltk.download('punkt')\n",
    "from nltk.tokenize import sent_tokenize, word_tokenize\n",
    "text=\"\"\"Yeah, there isn't enough focus on solving user problems.\n",
    "The foldable phone (more like an expandable tablet) is nice for\n",
    "marketing, but it doesn't address major user needs. In any case,\n",
    "I will give it a try, but I am not very confident. More to hear \n",
    "about solving those needs\"\"\"\n",
    "\n",
    "# frases tokenitzades\n",
    "tokenizar_frases = sent_tokenize(text)\n",
    "print(tokenizar_frases)\n",
    "print()\n",
    "# parauñes tokenitzades\n",
    "tokenizar_paraules = word_tokenize(text)\n",
    "print(tokenizar_paraules)"
   ]
  },
  {
   "cell_type": "code",
   "execution_count": 2,
   "id": "0769157e",
   "metadata": {},
   "outputs": [
    {
     "data": {
      "image/png": "[encoded data removed]",
      "text/plain": [
       "<Figure size 1440x792 with 1 Axes>"
      ]
     },
     "metadata": {
      "needs_background": "light"
     },
     "output_type": "display_data"
    },
    {
     "data": {
      "text/plain": [
       "<AxesSubplot:xlabel='Samples', ylabel='Counts'>"
      ]
     },
     "execution_count": 2,
     "metadata": {},
     "output_type": "execute_result"
    }
   ],
   "source": [
    "#Distribució de freqüències\n",
    "from nltk.probability import FreqDist\n",
    "import matplotlib.pyplot as plt\n",
    "\n",
    "frequencies = FreqDist(tokenizar_paraules)\n",
    "\n",
    "plt.figure(figsize=(20,11))\n",
    "frequencies.plot(30,marker = 'o', cumulative=False)\n"
   ]
  },
  {
   "cell_type": "markdown",
   "id": "45a42f51",
   "metadata": {},
   "source": [
    "# Exercici 2"
   ]
  },
  {
   "cell_type": "code",
   "execution_count": 3,
   "id": "2434d02a",
   "metadata": {},
   "outputs": [
    {
     "name": "stdout",
     "output_type": "stream",
     "text": [
      "Text en paraules sense soroll: ['Yeah', ',', \"n't\", 'enough', 'focus', 'solving', 'user', 'problems', '.', 'The', 'foldable', 'phone', '(', 'like', 'expandable', 'tablet', ')', 'nice', 'marketing', ',', \"n't\", 'address', 'major', 'user', 'needs', '.', 'In', 'case', ',', 'I', 'give', 'try', ',', 'I', 'confident', '.', 'More', 'hear', 'solving', 'needs']\n"
     ]
    },
    {
     "name": "stderr",
     "output_type": "stream",
     "text": [
      "[nltk_data] Downloading package stopwords to\n",
      "[nltk_data]     C:\\Users\\Ripley\\AppData\\Roaming\\nltk_data...\n",
      "[nltk_data]   Package stopwords is already up-to-date!\n"
     ]
    }
   ],
   "source": [
    "# Treure el soroll de fons del text\n",
    "\n",
    "# crear el diccionari de les paraules soroll\n",
    "from nltk.corpus import stopwords\n",
    "nltk.download('stopwords')\n",
    "soroll = set(stopwords.words(\"english\"))\n",
    "\n",
    "# usar el soroll per filtrar el llistat de paraules tokenitzades\n",
    "paraulesensesoroll = []\n",
    "for w in tokenizar_paraules:\n",
    "    if w not in soroll:\n",
    "        paraulesensesoroll.append(w)\n",
    "\n",
    "print(\"Text en paraules sense soroll:\",paraulesensesoroll)"
   ]
  },
  {
   "cell_type": "code",
   "execution_count": 4,
   "id": "70911b45",
   "metadata": {},
   "outputs": [
    {
     "name": "stdout",
     "output_type": "stream",
     "text": [
      "Paraules segons arrell: ['yeah', ',', \"n't\", 'enough', 'focu', 'solv', 'user', 'problem', '.', 'the', 'foldabl', 'phone', '(', 'like', 'expand', 'tablet', ')', 'nice', 'market', ',', \"n't\", 'address', 'major', 'user', 'need', '.', 'in', 'case', ',', 'i', 'give', 'tri', ',', 'i', 'confid', '.', 'more', 'hear', 'solv', 'need']\n"
     ]
    }
   ],
   "source": [
    "# aplicar stemming (arrells sense context)\n",
    "from nltk.stem import PorterStemmer\n",
    "\n",
    "procesps = PorterStemmer()\n",
    "arrellparaules=[]\n",
    "for w in paraulesensesoroll:\n",
    "    arrellparaules.append(procesps.stem(w))\n",
    "\n",
    "print(\"Paraules segons arrell:\",arrellparaules)"
   ]
  },
  {
   "cell_type": "markdown",
   "id": "3bdf97b6",
   "metadata": {},
   "source": [
    "# Exercici 3"
   ]
  },
  {
   "cell_type": "code",
   "execution_count": 5,
   "id": "416ee832",
   "metadata": {},
   "outputs": [],
   "source": [
    "# amb el material proporcionat, no veig com fer aquesta part del test\n",
    "# https://www.datacamp.com/tutorial/text-analytics-beginners-nltk \n",
    "# https://www.nltk.org/\n",
    "# per fer un análisis de sentiment caldria tenir una variable que \"categoritzi\" (que faci de \"label\")\n",
    "# el sentiment de les paraules  o, alternativament, un algoritmi que les \"categoritzi\"\n",
    "# Als links proporcionats, no surt com fer-ho, per la qual cosa no tinc clar com\n",
    "# procedir per fer aquest exercici per fer l'anàlisi de sentiment.\n",
    "\n"
   ]
  }
 ],
 "metadata": {
  "kernelspec": {
   "display_name": "Python 3 (ipykernel)",
   "language": "python",
   "name": "python3"
  },
  "language_info": {
   "codemirror_mode": {
    "name": "ipython",
    "version": 3
   },
   "file_extension": ".py",
   "mimetype": "text/x-python",
   "name": "python",
   "nbconvert_exporter": "python",
   "pygments_lexer": "ipython3",
   "version": "3.10.4"
  },
  "latex_envs": {
   "LaTeX_envs_menu_present": true,
   "autoclose": false,
   "autocomplete": true,
   "bibliofile": "biblio.bib",
   "cite_by": "apalike",
   "current_citInitial": 1,
   "eqLabelWithNumbers": true,
   "eqNumInitial": 1,
   "hotkeys": {
    "equation": "Ctrl-E",
    "itemize": "Ctrl-I"
   },
   "labels_anchors": false,
   "latex_user_defs": false,
   "report_style_numbering": false,
   "user_envs_cfg": false
  }
 },
 "nbformat": 4,
 "nbformat_minor": 5
}
