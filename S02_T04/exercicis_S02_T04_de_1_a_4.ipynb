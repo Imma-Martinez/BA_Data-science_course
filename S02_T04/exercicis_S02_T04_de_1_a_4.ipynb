{
 "cells": [
  {
   "cell_type": "code",
   "execution_count": 21,
   "id": "b8fe1945",
   "metadata": {},
   "outputs": [
    {
     "name": "stdout",
     "output_type": "stream",
     "text": [
      "Resum estadístic de la matriu:\n",
      "· media =  8.8\n",
      "· mediana =  4.0\n",
      "· mínimo =  0\n",
      "· máximo =  34\n",
      "· varianza =  162.16\n",
      "· desviación standard = 12.73\n"
     ]
    }
   ],
   "source": [
    "#import pandas as pd\n",
    "import numpy as np\n",
    "\n",
    "p = np.array([0,1,4,5,34])\n",
    "\n",
    "def resum(matriu):\n",
    "    #df = pd.DataFrame(matriu)\n",
    "    print(\"Resum estadístic de la matriu:\")\n",
    "    print(\"· media = \", np.mean(matriu))\n",
    "    print(\"· mediana = \", np.median(matriu))        \n",
    "    print(\"· mínimo = \", np.amin(matriu))\n",
    "    print(\"· máximo = \", np.amax(matriu))\n",
    "    print(\"· varianza = \", np.var(matriu))\n",
    "    print(f\"· desviación standard = {np.std(matriu):.2f}\")\n",
    "          \n",
    "if p.ndim != 1:\n",
    "    print(\"Hi ha una errada, la matriu no és d'una dimensió\")\n",
    "else:\n",
    "    resum(p)\n"
   ]
  },
  {
   "cell_type": "code",
   "execution_count": 3,
   "id": "3d08e711",
   "metadata": {},
   "outputs": [
    {
     "name": "stdout",
     "output_type": "stream",
     "text": [
      "De quants números vols la matriu quadrada:  4\n",
      "[[99  4 25 23]\n",
      " [74 84 92 33]\n",
      " [84 60  7 95]\n",
      " [23 32 94 62]]\n"
     ]
    }
   ],
   "source": [
    "from numpy import random\n",
    "\n",
    "def matriuquadrada(n):\n",
    "    x=random.randint(100, size=(n,n))\n",
    "    print(x)\n",
    "    \n",
    "tamany = int(input(\"De quants números vols la matriu quadrada:  \"))\n",
    "matriuquadrada(tamany)"
   ]
  },
  {
   "cell_type": "code",
   "execution_count": 6,
   "id": "8dbafe2b",
   "metadata": {},
   "outputs": [
    {
     "name": "stdout",
     "output_type": "stream",
     "text": [
      "La suma de la fila 0 és 44\n",
      "La suma de la fila 1 és 43\n",
      "La suma de la columna 0 és 3\n",
      "La suma de la columna 1 és 2\n",
      "La suma de la columna 2 és 8\n",
      "La suma de la columna 3 és 10\n",
      "La suma de la columna 4 és 64\n"
     ]
    }
   ],
   "source": [
    "import numpy as np\n",
    "\n",
    "matriu = np.array([[0,1,4,5,34],[3,1,4,5,30]])\n",
    "\n",
    "def sumatori(matriu2d):\n",
    "    for i in range(np.shape(matriu)[0]):\n",
    "        fila = sum(matriu[i])\n",
    "        print(\"La suma de la fila\", i, \"és\", fila)\n",
    "    for i in range(np.shape(matriu)[1]):\n",
    "        col = 0        \n",
    "        for j in range(np.shape(matriu)[0]):\n",
    "            col = col + matriu[j][i]\n",
    "        print(\"La suma de la columna\", i, \"és\", col)    \n",
    "\n",
    "sumatori(matriu)"
   ]
  },
  {
   "cell_type": "code",
   "execution_count": 22,
   "id": "721d73a0",
   "metadata": {},
   "outputs": [
    {
     "name": "stdout",
     "output_type": "stream",
     "text": [
      "De quants números vols calcular la correlació:  4\n",
      "    0   1\n",
      "0  70  70\n",
      "1  16  24\n",
      "2  70  92\n",
      "3   6  71\n",
      "La correlació de les dues series de dades generats a l'atzar és: 0.58984\n"
     ]
    }
   ],
   "source": [
    "from numpy import random\n",
    "import pandas as pd\n",
    "import numpy as np\n",
    "\n",
    "def calcorre(files):\n",
    "    x=pd.DataFrame(random.randint(100, size=(tamany,2)))\n",
    "    print(x)\n",
    "    for j in range(x.ndim):\n",
    "        addcol = []\n",
    "        for i in range(len(x.index)):\n",
    "            addcol.append(x[j][i] - x[j].mean())\n",
    "        x[j+2] = addcol\n",
    "    suman = 0\n",
    "    sumad1 = 0\n",
    "    sumad2  = 0\n",
    "    for i in range(len(x.index)):\n",
    "        suman = suman + (x[2][i]*x[3][i])\n",
    "        sumad1 = sumad1 + (x[2][i])**2\n",
    "        sumad2 = sumad2 + (x[3][i])**2\n",
    "    corr = suman /(sumad1 * sumad2)** 0.5\n",
    "\n",
    "    print(f\"La correlació de les dues series de dades generats a l'atzar és: {corr:.5f}\")\n",
    "\n",
    "tamany = int(input(\"De quants números vols calcular la correlació:  \"))\n",
    "calcorre(tamany)"
   ]
  },
  {
   "cell_type": "code",
   "execution_count": null,
   "id": "e6a6bc7e",
   "metadata": {},
   "outputs": [],
   "source": []
  }
 ],
 "metadata": {
  "kernelspec": {
   "display_name": "Python 3 (ipykernel)",
   "language": "python",
   "name": "python3"
  },
  "language_info": {
   "codemirror_mode": {
    "name": "ipython",
    "version": 3
   },
   "file_extension": ".py",
   "mimetype": "text/x-python",
   "name": "python",
   "nbconvert_exporter": "python",
   "pygments_lexer": "ipython3",
   "version": "3.10.4"
  },
  "latex_envs": {
   "LaTeX_envs_menu_present": true,
   "autoclose": false,
   "autocomplete": true,
   "bibliofile": "biblio.bib",
   "cite_by": "apalike",
   "current_citInitial": 1,
   "eqLabelWithNumbers": true,
   "eqNumInitial": 1,
   "hotkeys": {
    "equation": "Ctrl-E",
    "itemize": "Ctrl-I"
   },
   "labels_anchors": false,
   "latex_user_defs": false,
   "report_style_numbering": false,
   "user_envs_cfg": false
  }
 },
 "nbformat": 4,
 "nbformat_minor": 5
}
