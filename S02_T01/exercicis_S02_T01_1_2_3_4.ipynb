{
 "cells": [
  {
   "cell_type": "code",
   "execution_count": 2,
   "id": "943f3e51",
   "metadata": {},
   "outputs": [],
   "source": [
    "mesos = [[\"1T\", \"Gener\", \"Febrer\", \"Març\"], [\"2T\", \"Abril\", \"Maig\", \"Juny\"], [\"3T\", \"Juliol\", \"Agost\", \"Setembre\"],\n",
    "         [\"4T\", \"Octubre\", \"Novembre\", \"Desembre\"]]"
   ]
  },
  {
   "cell_type": "code",
   "execution_count": 7,
   "id": "7a9f6326",
   "metadata": {},
   "outputs": [
    {
     "name": "stdout",
     "output_type": "stream",
     "text": [
      "Febrer\n",
      "Els mesos del primer trimestre són: \n",
      "Gener\n",
      "Febrer\n",
      "Març\n",
      "Setembre\n",
      "Octubre\n"
     ]
    }
   ],
   "source": [
    "print(mesos[0][2])\n",
    "primertrimestre = mesos[0]\n",
    "print(\"Els mesos del primer trimestre són: \")\n",
    "for m in range(1,4):\n",
    "    print(primertrimestre[m])\n",
    "print(mesos[2][3])\n",
    "print(mesos[3][1])"
   ]
  },
  {
   "cell_type": "code",
   "execution_count": 6,
   "id": "fb2bb178",
   "metadata": {},
   "outputs": [
    {
     "name": "stdout",
     "output_type": "stream",
     "text": [
      "Hi ha 12 numeros a aquesta llista\n",
      "El número 3 està present 3 vegades junts\n",
      "Els números 3 i 4 estan presents 4 vegades\n",
      "El número més alt és el 68\n",
      "Els tres números més petits són:\n",
      "0\n",
      "3\n",
      "3\n",
      "el rang de la llista és de 0 a 11\n"
     ]
    }
   ],
   "source": [
    "numeros = [3, 5, 4, 7, 3, 3, 9, 8, 14, 68, 34, 0]\n",
    "print(\"Hi ha\", len(numeros), \"numeros a aquesta llista\")\n",
    "number3 = numeros.count(3)\n",
    "print(\"El número 3 està present\", number3, \"vegades junts\")\n",
    "number4y3 = number3 + numeros.count(4)\n",
    "print(\"Els números 3 i 4 estan presents\", number4y3, \"vegades\")\n",
    "print(\"El número més alt és el\", max(numeros))\n",
    "llista = list(numeros)\n",
    "minimos = []\n",
    "print(\"Els tres números més petits són:\")\n",
    "for t in range(0,3):\n",
    "    minimos.append(min(llista))\n",
    "    llista.pop(llista.index(min(llista)))\n",
    "    print(minimos[t])\n",
    "print(\"el rang de la llista és de\", 0, \"a\", len(numeros) - 1)                        "
   ]
  },
  {
   "cell_type": "code",
   "execution_count": 26,
   "id": "5ec08eb1",
   "metadata": {},
   "outputs": [
    {
     "name": "stdout",
     "output_type": "stream",
     "text": [
      "Les peres han costat 1.98 €\n",
      "Hem gastat en fruita 11.01 €\n",
      "La fruita més cara és les Taronges\n"
     ]
    }
   ],
   "source": [
    "compra = { \"Pomes\" : {\"Qty\": 5, \"€\": 0.42}, \"Peres\" : {\"Qty\": 3, \"€\": 0.66} }\n",
    "compra[\"Taronges\"] = {\"Qty\" : 7, \"€\" : 0.99}\n",
    "print(\"Les peres han costat\", compra[\"Peres\"][\"Qty\"] * compra[\"Peres\"][\"€\"], \"€\")\n",
    "suma = 0\n",
    "for l in compra:\n",
    "    suma += compra[l][\"Qty\"] * compra[l][\"€\"]\n",
    "print(\"Hem gastat en fruita\", suma, \"€\")\n",
    "precios = []\n",
    "preciosf =list(compra.keys())\n",
    "for l in compra:\n",
    "    precios.append(compra[l][\"€\"])\n",
    "fcara = preciosf[precios.index(max(precios))]\n",
    "print(\"La fruita més cara és les\", fcara)"
   ]
  },
  {
   "cell_type": "code",
   "execution_count": null,
   "id": "b6177ad0",
   "metadata": {},
   "outputs": [],
   "source": []
  }
 ],
 "metadata": {
  "kernelspec": {
   "display_name": "Python 3 (ipykernel)",
   "language": "python",
   "name": "python3"
  },
  "language_info": {
   "codemirror_mode": {
    "name": "ipython",
    "version": 3
   },
   "file_extension": ".py",
   "mimetype": "text/x-python",
   "name": "python",
   "nbconvert_exporter": "python",
   "pygments_lexer": "ipython3",
   "version": "3.10.4"
  }
 },
 "nbformat": 4,
 "nbformat_minor": 5
}
