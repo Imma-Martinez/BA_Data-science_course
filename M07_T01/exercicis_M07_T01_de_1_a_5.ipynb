{
 "cells": [
  {
   "cell_type": "code",
   "execution_count": 1,
   "id": "a31f8195",
   "metadata": {},
   "outputs": [
    {
     "name": "stdout",
     "output_type": "stream",
     "text": [
      "<class 'pandas.core.frame.DataFrame'>\n",
      "RangeIndex: 178 entries, 0 to 177\n",
      "Data columns (total 14 columns):\n",
      " #   Column                        Non-Null Count  Dtype  \n",
      "---  ------                        --------------  -----  \n",
      " 0   Class                         178 non-null    int64  \n",
      " 1   Alcohol                       178 non-null    float64\n",
      " 2   Malic_acid                    178 non-null    float64\n",
      " 3   Ash                           178 non-null    float64\n",
      " 4   Alcalinity_of_ash             178 non-null    float64\n",
      " 5   Magnesium                     178 non-null    int64  \n",
      " 6   Total_phenols                 178 non-null    float64\n",
      " 7   Flavanoids                    178 non-null    float64\n",
      " 8   Nonflavanoid_phenols          178 non-null    float64\n",
      " 9   Proanthocyanins               178 non-null    float64\n",
      " 10  Color_intensity               178 non-null    float64\n",
      " 11  Hue                           178 non-null    float64\n",
      " 12  OD280/OD315_of_diluted wines  178 non-null    float64\n",
      " 13  Proline                       178 non-null    int64  \n",
      "dtypes: float64(11), int64(3)\n",
      "memory usage: 19.6 KB\n",
      "\n"
     ]
    },
    {
     "data": {
      "text/html": [
       "<div>\n",
       "<style scoped>\n",
       "    .dataframe tbody tr th:only-of-type {\n",
       "        vertical-align: middle;\n",
       "    }\n",
       "\n",
       "    .dataframe tbody tr th {\n",
       "        vertical-align: top;\n",
       "    }\n",
       "\n",
       "    .dataframe thead th {\n",
       "        text-align: right;\n",
       "    }\n",
       "</style>\n",
       "<table border=\"1\" class=\"dataframe\">\n",
       "  <thead>\n",
       "    <tr style=\"text-align: right;\">\n",
       "      <th></th>\n",
       "      <th>count</th>\n",
       "      <th>mean</th>\n",
       "      <th>std</th>\n",
       "      <th>min</th>\n",
       "      <th>25%</th>\n",
       "      <th>50%</th>\n",
       "      <th>75%</th>\n",
       "      <th>max</th>\n",
       "    </tr>\n",
       "  </thead>\n",
       "  <tbody>\n",
       "    <tr>\n",
       "      <th>Class</th>\n",
       "      <td>178.0</td>\n",
       "      <td>1.938202</td>\n",
       "      <td>0.775035</td>\n",
       "      <td>1.00</td>\n",
       "      <td>1.0000</td>\n",
       "      <td>2.000</td>\n",
       "      <td>3.0000</td>\n",
       "      <td>3.00</td>\n",
       "    </tr>\n",
       "    <tr>\n",
       "      <th>Alcohol</th>\n",
       "      <td>178.0</td>\n",
       "      <td>13.000618</td>\n",
       "      <td>0.811827</td>\n",
       "      <td>11.03</td>\n",
       "      <td>12.3625</td>\n",
       "      <td>13.050</td>\n",
       "      <td>13.6775</td>\n",
       "      <td>14.83</td>\n",
       "    </tr>\n",
       "    <tr>\n",
       "      <th>Malic_acid</th>\n",
       "      <td>178.0</td>\n",
       "      <td>2.336348</td>\n",
       "      <td>1.117146</td>\n",
       "      <td>0.74</td>\n",
       "      <td>1.6025</td>\n",
       "      <td>1.865</td>\n",
       "      <td>3.0825</td>\n",
       "      <td>5.80</td>\n",
       "    </tr>\n",
       "    <tr>\n",
       "      <th>Ash</th>\n",
       "      <td>178.0</td>\n",
       "      <td>2.366517</td>\n",
       "      <td>0.274344</td>\n",
       "      <td>1.36</td>\n",
       "      <td>2.2100</td>\n",
       "      <td>2.360</td>\n",
       "      <td>2.5575</td>\n",
       "      <td>3.23</td>\n",
       "    </tr>\n",
       "    <tr>\n",
       "      <th>Alcalinity_of_ash</th>\n",
       "      <td>178.0</td>\n",
       "      <td>19.494944</td>\n",
       "      <td>3.339564</td>\n",
       "      <td>10.60</td>\n",
       "      <td>17.2000</td>\n",
       "      <td>19.500</td>\n",
       "      <td>21.5000</td>\n",
       "      <td>30.00</td>\n",
       "    </tr>\n",
       "    <tr>\n",
       "      <th>Magnesium</th>\n",
       "      <td>178.0</td>\n",
       "      <td>99.741573</td>\n",
       "      <td>14.282484</td>\n",
       "      <td>70.00</td>\n",
       "      <td>88.0000</td>\n",
       "      <td>98.000</td>\n",
       "      <td>107.0000</td>\n",
       "      <td>162.00</td>\n",
       "    </tr>\n",
       "    <tr>\n",
       "      <th>Total_phenols</th>\n",
       "      <td>178.0</td>\n",
       "      <td>2.295112</td>\n",
       "      <td>0.625851</td>\n",
       "      <td>0.98</td>\n",
       "      <td>1.7425</td>\n",
       "      <td>2.355</td>\n",
       "      <td>2.8000</td>\n",
       "      <td>3.88</td>\n",
       "    </tr>\n",
       "    <tr>\n",
       "      <th>Flavanoids</th>\n",
       "      <td>178.0</td>\n",
       "      <td>2.029270</td>\n",
       "      <td>0.998859</td>\n",
       "      <td>0.34</td>\n",
       "      <td>1.2050</td>\n",
       "      <td>2.135</td>\n",
       "      <td>2.8750</td>\n",
       "      <td>5.08</td>\n",
       "    </tr>\n",
       "    <tr>\n",
       "      <th>Nonflavanoid_phenols</th>\n",
       "      <td>178.0</td>\n",
       "      <td>0.361854</td>\n",
       "      <td>0.124453</td>\n",
       "      <td>0.13</td>\n",
       "      <td>0.2700</td>\n",
       "      <td>0.340</td>\n",
       "      <td>0.4375</td>\n",
       "      <td>0.66</td>\n",
       "    </tr>\n",
       "    <tr>\n",
       "      <th>Proanthocyanins</th>\n",
       "      <td>178.0</td>\n",
       "      <td>1.590899</td>\n",
       "      <td>0.572359</td>\n",
       "      <td>0.41</td>\n",
       "      <td>1.2500</td>\n",
       "      <td>1.555</td>\n",
       "      <td>1.9500</td>\n",
       "      <td>3.58</td>\n",
       "    </tr>\n",
       "    <tr>\n",
       "      <th>Color_intensity</th>\n",
       "      <td>178.0</td>\n",
       "      <td>5.058090</td>\n",
       "      <td>2.318286</td>\n",
       "      <td>1.28</td>\n",
       "      <td>3.2200</td>\n",
       "      <td>4.690</td>\n",
       "      <td>6.2000</td>\n",
       "      <td>13.00</td>\n",
       "    </tr>\n",
       "    <tr>\n",
       "      <th>Hue</th>\n",
       "      <td>178.0</td>\n",
       "      <td>0.957449</td>\n",
       "      <td>0.228572</td>\n",
       "      <td>0.48</td>\n",
       "      <td>0.7825</td>\n",
       "      <td>0.965</td>\n",
       "      <td>1.1200</td>\n",
       "      <td>1.71</td>\n",
       "    </tr>\n",
       "    <tr>\n",
       "      <th>OD280/OD315_of_diluted wines</th>\n",
       "      <td>178.0</td>\n",
       "      <td>2.611685</td>\n",
       "      <td>0.709990</td>\n",
       "      <td>1.27</td>\n",
       "      <td>1.9375</td>\n",
       "      <td>2.780</td>\n",
       "      <td>3.1700</td>\n",
       "      <td>4.00</td>\n",
       "    </tr>\n",
       "    <tr>\n",
       "      <th>Proline</th>\n",
       "      <td>178.0</td>\n",
       "      <td>746.893258</td>\n",
       "      <td>314.907474</td>\n",
       "      <td>278.00</td>\n",
       "      <td>500.5000</td>\n",
       "      <td>673.500</td>\n",
       "      <td>985.0000</td>\n",
       "      <td>1680.00</td>\n",
       "    </tr>\n",
       "  </tbody>\n",
       "</table>\n",
       "</div>"
      ],
      "text/plain": [
       "                              count        mean         std     min       25%  \\\n",
       "Class                         178.0    1.938202    0.775035    1.00    1.0000   \n",
       "Alcohol                       178.0   13.000618    0.811827   11.03   12.3625   \n",
       "Malic_acid                    178.0    2.336348    1.117146    0.74    1.6025   \n",
       "Ash                           178.0    2.366517    0.274344    1.36    2.2100   \n",
       "Alcalinity_of_ash             178.0   19.494944    3.339564   10.60   17.2000   \n",
       "Magnesium                     178.0   99.741573   14.282484   70.00   88.0000   \n",
       "Total_phenols                 178.0    2.295112    0.625851    0.98    1.7425   \n",
       "Flavanoids                    178.0    2.029270    0.998859    0.34    1.2050   \n",
       "Nonflavanoid_phenols          178.0    0.361854    0.124453    0.13    0.2700   \n",
       "Proanthocyanins               178.0    1.590899    0.572359    0.41    1.2500   \n",
       "Color_intensity               178.0    5.058090    2.318286    1.28    3.2200   \n",
       "Hue                           178.0    0.957449    0.228572    0.48    0.7825   \n",
       "OD280/OD315_of_diluted wines  178.0    2.611685    0.709990    1.27    1.9375   \n",
       "Proline                       178.0  746.893258  314.907474  278.00  500.5000   \n",
       "\n",
       "                                  50%       75%      max  \n",
       "Class                           2.000    3.0000     3.00  \n",
       "Alcohol                        13.050   13.6775    14.83  \n",
       "Malic_acid                      1.865    3.0825     5.80  \n",
       "Ash                             2.360    2.5575     3.23  \n",
       "Alcalinity_of_ash              19.500   21.5000    30.00  \n",
       "Magnesium                      98.000  107.0000   162.00  \n",
       "Total_phenols                   2.355    2.8000     3.88  \n",
       "Flavanoids                      2.135    2.8750     5.08  \n",
       "Nonflavanoid_phenols            0.340    0.4375     0.66  \n",
       "Proanthocyanins                 1.555    1.9500     3.58  \n",
       "Color_intensity                 4.690    6.2000    13.00  \n",
       "Hue                             0.965    1.1200     1.71  \n",
       "OD280/OD315_of_diluted wines    2.780    3.1700     4.00  \n",
       "Proline                       673.500  985.0000  1680.00  "
      ]
     },
     "execution_count": 1,
     "metadata": {},
     "output_type": "execute_result"
    }
   ],
   "source": [
    "import pandas as pd\n",
    "import numpy as np\n",
    "\n",
    "ncolumns = ['Class', 'Alcohol', 'Malic_acid', 'Ash', 'Alcalinity_of_ash', \n",
    "            'Magnesium', 'Total_phenols', 'Flavanoids', 'Nonflavanoid_phenols', \n",
    "            'Proanthocyanins', 'Color_intensity', 'Hue', 'OD280/OD315_of_diluted wines', 'Proline']\n",
    "p = pd.read_csv('wineData.txt', sep=',', names = ncolumns)\n",
    "\n",
    "p.info()\n",
    "print()\n",
    "p.describe(include='all').transpose()\n"
   ]
  },
  {
   "cell_type": "code",
   "execution_count": 2,
   "id": "95613f11",
   "metadata": {},
   "outputs": [
    {
     "data": {
      "image/png": "[encoded data removed]",
      "text/plain": [
       "<Figure size 1440x792 with 2 Axes>"
      ]
     },
     "metadata": {
      "needs_background": "light"
     },
     "output_type": "display_data"
    },
    {
     "data": {
      "text/plain": [
       "Class                           1.000000\n",
       "Total_phenols                   0.719163\n",
       "Flavanoids                      0.847498\n",
       "Hue                             0.617369\n",
       "OD280/OD315_of_diluted wines    0.788230\n",
       "Proline                         0.633717\n",
       "Name: Class, dtype: float64"
      ]
     },
     "execution_count": 2,
     "metadata": {},
     "output_type": "execute_result"
    }
   ],
   "source": [
    "import matplotlib.pyplot as plt\n",
    "import seaborn as sns\n",
    "\n",
    "plt.figure(figsize=(20,11))\n",
    "cor = p.corr()\n",
    "mask = np.triu(np.ones_like(cor, dtype=bool))\n",
    "sns.heatmap(cor, mask=mask, annot=True, cmap=plt.cm.Greys)\n",
    "plt.show()\n",
    "\n",
    "cor_target = abs(cor[\"Class\"])\n",
    "relevant_features = cor_target[cor_target>0.6]\n",
    "relevant_features"
   ]
  },
  {
   "cell_type": "code",
   "execution_count": 3,
   "id": "156b072e",
   "metadata": {
    "scrolled": true
   },
   "outputs": [
    {
     "data": {
      "image/png": "[encoded data removed]",
      "text/plain": [
       "<Figure size 432x288 with 1 Axes>"
      ]
     },
     "metadata": {
      "needs_background": "light"
     },
     "output_type": "display_data"
    }
   ],
   "source": [
    "sns.boxplot(y='Flavanoids', x='Class',data=p)\n",
    "plt.ylabel('Flavanoids')\n",
    "plt.show()"
   ]
  },
  {
   "cell_type": "code",
   "execution_count": 4,
   "id": "00f6e5a9",
   "metadata": {},
   "outputs": [],
   "source": [
    "X = p.drop(['Class'], axis=1)\n",
    "yy = p.pop('Class').astype('int16')"
   ]
  },
  {
   "cell_type": "code",
   "execution_count": 5,
   "id": "8bc90a1d",
   "metadata": {},
   "outputs": [
    {
     "name": "stdout",
     "output_type": "stream",
     "text": [
      "accuracy: 1.0\n",
      "precision: 1.0\n",
      "recall: 1.0\n",
      "F1: 1.0\n",
      "matriu: [[59  0  0]\n",
      " [ 0 71  0]\n",
      " [ 0  0 48]]\n",
      "              precision    recall  f1-score   support\n",
      "\n",
      "           1       1.00      1.00      1.00        59\n",
      "           2       1.00      1.00      1.00        71\n",
      "           3       1.00      1.00      1.00        48\n",
      "\n",
      "    accuracy                           1.00       178\n",
      "   macro avg       1.00      1.00      1.00       178\n",
      "weighted avg       1.00      1.00      1.00       178\n",
      "\n"
     ]
    }
   ],
   "source": [
    "# Model de classificació per arbres de decisió amb tota la mostra\n",
    "\n",
    "from sklearn.tree import DecisionTreeClassifier\n",
    "from sklearn.metrics import accuracy_score, precision_score, recall_score, f1_score, confusion_matrix, classification_report, balanced_accuracy_score\n",
    "\n",
    "modeldt1 = DecisionTreeClassifier(class_weight='balanced', random_state=42)\n",
    "\n",
    "modeldt1.fit(X, yy)\n",
    "y_pred = modeldt1.predict(X)\n",
    "\n",
    "print('accuracy:', accuracy_score(yy, y_pred))\n",
    "print(\"precision:\", precision_score(yy, y_pred, average='weighted'))\n",
    "print('recall:', recall_score(yy, y_pred, average='weighted'))\n",
    "print(\"F1:\",f1_score(yy, y_pred, average='weighted'))\n",
    "print(\"matriu:\",confusion_matrix(yy, y_pred))\n",
    "print(classification_report(yy, y_pred))\n",
    "\n",
    "#segurament sobreajust del model"
   ]
  },
  {
   "cell_type": "code",
   "execution_count": 6,
   "id": "add42684",
   "metadata": {},
   "outputs": [
    {
     "name": "stdout",
     "output_type": "stream",
     "text": [
      "accuracy: 1.0\n",
      "precision: 1.0\n",
      "recall: 1.0\n",
      "F1: 1.0\n",
      "matriu: [[59  0  0]\n",
      " [ 0 71  0]\n",
      " [ 0  0 48]]\n",
      "              precision    recall  f1-score   support\n",
      "\n",
      "           1       1.00      1.00      1.00        59\n",
      "           2       1.00      1.00      1.00        71\n",
      "           3       1.00      1.00      1.00        48\n",
      "\n",
      "    accuracy                           1.00       178\n",
      "   macro avg       1.00      1.00      1.00       178\n",
      "weighted avg       1.00      1.00      1.00       178\n",
      "\n"
     ]
    }
   ],
   "source": [
    "# Model de classificació per K Neighbors amb tota la mostra\n",
    "from sklearn.neighbors import KNeighborsClassifier\n",
    "\n",
    "modelKN1 = KNeighborsClassifier(weights = 'distance')\n",
    "modelKN1.fit(X, yy)\n",
    "y_pred = modelKN1.predict(X)\n",
    "\n",
    "print('accuracy:', accuracy_score(yy, y_pred))\n",
    "print(\"precision:\", precision_score(yy, y_pred, average='weighted'))\n",
    "print('recall:', recall_score(yy, y_pred, average='weighted'))\n",
    "print(\"F1:\",f1_score(yy, y_pred, average='weighted'))\n",
    "print(\"matriu:\",confusion_matrix(yy, y_pred))\n",
    "print(classification_report(yy, y_pred))\n",
    "\n",
    "#segurament sobreajust del model"
   ]
  },
  {
   "cell_type": "code",
   "execution_count": 7,
   "id": "2eb7f79a",
   "metadata": {},
   "outputs": [
    {
     "name": "stdout",
     "output_type": "stream",
     "text": [
      "accuracy: 0.7078651685393258\n",
      "precision: 0.7035205992509362\n",
      "recall: 0.7078651685393258\n",
      "F1: 0.7052351921622689\n",
      "matriu: [[52  0  7]\n",
      " [ 4 52 15]\n",
      " [ 3 23 22]]\n",
      "              precision    recall  f1-score   support\n",
      "\n",
      "           1       0.88      0.88      0.88        59\n",
      "           2       0.69      0.73      0.71        71\n",
      "           3       0.50      0.46      0.48        48\n",
      "\n",
      "    accuracy                           0.71       178\n",
      "   macro avg       0.69      0.69      0.69       178\n",
      "weighted avg       0.70      0.71      0.71       178\n",
      "\n"
     ]
    }
   ],
   "source": [
    "# # Model de classificació per SVC amb tota la mostra\n",
    "\n",
    "from sklearn import svm\n",
    "\n",
    "modelSVC1 = svm.SVC(degree=2, random_state=42)\n",
    "modelSVC1.fit(X, yy)\n",
    "y_pred = modelSVC1.predict(X)\n",
    "\n",
    "print('accuracy:', accuracy_score(yy, y_pred))\n",
    "print(\"precision:\", precision_score(yy, y_pred, average='weighted'))\n",
    "print('recall:', recall_score(yy, y_pred, average='weighted'))\n",
    "print(\"F1:\",f1_score(yy, y_pred, average='weighted'))\n",
    "print(\"matriu:\",confusion_matrix(yy, y_pred))\n",
    "print(classification_report(yy, y_pred))\n",
    "\n",
    "#segurament sobreajust del model tot i que el model no fa les prediccions correctes totalment"
   ]
  },
  {
   "cell_type": "code",
   "execution_count": 8,
   "id": "569d7d34",
   "metadata": {},
   "outputs": [
    {
     "name": "stdout",
     "output_type": "stream",
     "text": [
      "Millors paràmetres: {'criterion': 'entropy', 'max_depth': 5, 'max_leaf_nodes': 10, 'min_samples_leaf': 3}\n",
      "Millor puntuació: 0.9317104812951363\n"
     ]
    }
   ],
   "source": [
    "#Optimització de paràmetres pel DecisionTree\n",
    "\n",
    "from sklearn.model_selection import GridSearchCV\n",
    "\n",
    "param_grid = {'max_depth': [5, 15, 25],\n",
    "    'min_samples_leaf': [1, 3],\n",
    "    'max_leaf_nodes': [10, 20, 35, 50],\n",
    "    'criterion': ['gini', 'entropy', 'log_loss']}\n",
    "dt = DecisionTreeClassifier(class_weight='balanced', random_state=42)\n",
    "gsdt1 = GridSearchCV(dt, param_grid, scoring='f1_weighted', cv=5)\n",
    "gsdt1.fit(X, yy)\n",
    "print(\"Millors paràmetres:\", gsdt1.best_params_)\n",
    "print(\"Millor puntuació:\", gsdt1.best_score_)\n",
    "\n",
    "# segurament encara sobreajustat"
   ]
  },
  {
   "cell_type": "code",
   "execution_count": 9,
   "id": "c3ab9dfc",
   "metadata": {},
   "outputs": [
    {
     "name": "stdout",
     "output_type": "stream",
     "text": [
      "Millors paràmetres: {'algorithm': 'auto', 'leaf_size': 20, 'n_neighbors': 1}\n",
      "Millor puntuació: 0.7219696386780786\n"
     ]
    }
   ],
   "source": [
    "#Optimització de paràmetres pel KNeighbors\n",
    "\n",
    "param_grid = {'algorithm': ['auto', 'ball_tree', 'kd_tree'],\n",
    "    'n_neighbors': [1, 3, 5 , 10],\n",
    "    'leaf_size': [20, 30, 40, 50]}\n",
    "dt = KNeighborsClassifier(weights = 'distance')\n",
    "gskn1 = GridSearchCV(dt, param_grid, scoring='f1_weighted', cv=5)\n",
    "gskn1.fit(X, yy)\n",
    "print(\"Millors paràmetres:\", gskn1.best_params_)\n",
    "print(\"Millor puntuació:\", gskn1.best_score_)\n",
    "\n",
    "# segurament encara sobreajustat"
   ]
  },
  {
   "cell_type": "code",
   "execution_count": 10,
   "id": "b01b9943",
   "metadata": {},
   "outputs": [
    {
     "name": "stdout",
     "output_type": "stream",
     "text": [
      "Millors paràmetres: {'cache_size': 100, 'class_weight': '', 'kernel': 'linear'}\n",
      "Millor puntuació: 0.9602483752018985\n"
     ]
    }
   ],
   "source": [
    "#Optimització de paràmetres pel SVC\n",
    "\n",
    "param_grid = {'kernel': ['linear', 'poly', 'rbf', 'sigmoid'],\n",
    "    'class_weight': ['', 'balanced'],\n",
    "    'cache_size': [100, 200, 400]}\n",
    "dt = svm.SVC(degree=2, random_state=42)\n",
    "gssvc1 = GridSearchCV(dt, param_grid, scoring='f1_weighted', cv=5)\n",
    "gssvc1.fit(X, yy)\n",
    "print(\"Millors paràmetres:\", gssvc1.best_params_)\n",
    "print(\"Millor puntuació:\", gssvc1.best_score_)\n",
    "\n",
    "# segurament encara sobreajustat"
   ]
  },
  {
   "cell_type": "code",
   "execution_count": 11,
   "id": "7d60fb70",
   "metadata": {},
   "outputs": [],
   "source": [
    "# Separació de les dades en train i test\n",
    "\n",
    "from sklearn.model_selection import train_test_split\n",
    "\n",
    "X_train, X_test, y_train, y_test = train_test_split(X, yy, random_state = 27, train_size = 0.7, stratify = yy)"
   ]
  },
  {
   "cell_type": "code",
   "execution_count": 12,
   "id": "8b9d5dc6",
   "metadata": {},
   "outputs": [
    {
     "name": "stdout",
     "output_type": "stream",
     "text": [
      "Millors paràmetres: {'criterion': 'entropy', 'max_depth': 5, 'max_leaf_nodes': 10, 'min_samples_leaf': 1}\n",
      "Millor puntuació: 0.9599854916325505\n"
     ]
    }
   ],
   "source": [
    "# optimització del model DT separant les dades:\n",
    "\n",
    "param_grid = {'max_depth': [5, 15, 25],\n",
    "    'min_samples_leaf': [1, 3],\n",
    "    'max_leaf_nodes': [10, 20, 35, 50],\n",
    "    'criterion': ['gini', 'entropy', 'log_loss']}\n",
    "dt = DecisionTreeClassifier(class_weight='balanced', random_state=42)\n",
    "gsdt2 = GridSearchCV(dt, param_grid, scoring='f1_weighted', cv=5)\n",
    "gsdt2.fit(X_train, y_train)\n",
    "print(\"Millors paràmetres:\", gsdt2.best_params_)\n",
    "print(\"Millor puntuació:\", gsdt2.best_score_)\n",
    "\n",
    "#L'optimització de paràmetres ha resultat diferent al separar les dades i amb millor puntuació"
   ]
  },
  {
   "cell_type": "code",
   "execution_count": 13,
   "id": "502fa870",
   "metadata": {},
   "outputs": [
    {
     "name": "stdout",
     "output_type": "stream",
     "text": [
      "accuracy: 0.9259259259259259\n",
      "precision: 0.929558745348219\n",
      "recall: 0.9259259259259259\n",
      "F1: 0.9259999201859667\n",
      "matriu: [[17  1  0]\n",
      " [ 1 20  0]\n",
      " [ 1  1 13]]\n",
      "              precision    recall  f1-score   support\n",
      "\n",
      "           1       0.89      0.94      0.92        18\n",
      "           2       0.91      0.95      0.93        21\n",
      "           3       1.00      0.87      0.93        15\n",
      "\n",
      "    accuracy                           0.93        54\n",
      "   macro avg       0.93      0.92      0.93        54\n",
      "weighted avg       0.93      0.93      0.93        54\n",
      "\n"
     ]
    }
   ],
   "source": [
    "#provar DecisionTree amb els paràmetres amb dades separades\n",
    "\n",
    "modeldt2 = DecisionTreeClassifier(criterion='entropy', random_state=42, \n",
    "                               class_weight='balanced', max_depth= 5, max_leaf_nodes= 10, min_samples_leaf=1)\n",
    "\n",
    "modeldt2.fit(X_train, y_train)\n",
    "y_pred = modeldt2.predict(X_test)\n",
    "\n",
    "print('accuracy:', accuracy_score(y_test, y_pred))\n",
    "print(\"precision:\", precision_score(y_test, y_pred, average='weighted'))\n",
    "print('recall:', recall_score(y_test, y_pred, average='weighted'))\n",
    "print(\"F1:\",f1_score(y_test, y_pred, average='weighted'))\n",
    "print(\"matriu:\",confusion_matrix(y_test, y_pred))\n",
    "print(classification_report(y_test, y_pred))\n",
    "\n",
    "#al separar les dades es veu clarament que el model amb totes les dades estava sobreajustat"
   ]
  },
  {
   "cell_type": "code",
   "execution_count": 14,
   "id": "13fcc434",
   "metadata": {},
   "outputs": [
    {
     "name": "stdout",
     "output_type": "stream",
     "text": [
      "Millors paràmetres: {'algorithm': 'auto', 'leaf_size': 20, 'n_neighbors': 1}\n",
      "Millor puntuació: 0.7557128363896166\n"
     ]
    }
   ],
   "source": [
    "#Optimització de paràmetres pel KNeighbors i amb les dades separades\n",
    "\n",
    "param_grid = {'algorithm': ['auto', 'ball_tree', 'kd_tree'],\n",
    "    'n_neighbors': [1, 3, 5 , 10],\n",
    "    'leaf_size': [20, 30, 40, 50]}\n",
    "dt = KNeighborsClassifier(weights = 'distance')\n",
    "gskn2 = GridSearchCV(dt, param_grid, scoring='f1_weighted', cv=5)\n",
    "gskn2.fit(X_train, y_train)\n",
    "print(\"Millors paràmetres:\", gskn2.best_params_)\n",
    "print(\"Millor puntuació:\", gskn2.best_score_)\n",
    "\n",
    "# optimització ha dónat els mateixos valors dels paràmetres però millor puntuació"
   ]
  },
  {
   "cell_type": "code",
   "execution_count": 15,
   "id": "ac88217c",
   "metadata": {},
   "outputs": [
    {
     "name": "stdout",
     "output_type": "stream",
     "text": [
      "accuracy: 0.6851851851851852\n",
      "precision: 0.7039473684210527\n",
      "recall: 0.6851851851851852\n",
      "F1: 0.6906862745098039\n",
      "matriu: [[14  1  3]\n",
      " [ 2 13  6]\n",
      " [ 0  5 10]]\n",
      "              precision    recall  f1-score   support\n",
      "\n",
      "           1       0.88      0.78      0.82        18\n",
      "           2       0.68      0.62      0.65        21\n",
      "           3       0.53      0.67      0.59        15\n",
      "\n",
      "    accuracy                           0.69        54\n",
      "   macro avg       0.70      0.69      0.69        54\n",
      "weighted avg       0.70      0.69      0.69        54\n",
      "\n"
     ]
    }
   ],
   "source": [
    "#provar KNeighbors amb els millors paràmetres i dades separades\n",
    "\n",
    "modelKN2 = KNeighborsClassifier(weights = 'distance', leaf_size= 20, n_neighbors= 1)\n",
    "modelKN2.fit(X_train, y_train)\n",
    "y_pred = modelKN2.predict(X_test)\n",
    "\n",
    "print('accuracy:', accuracy_score(y_test, y_pred))\n",
    "print(\"precision:\", precision_score(y_test, y_pred, average='weighted'))\n",
    "print('recall:', recall_score(y_test, y_pred, average='weighted'))\n",
    "print(\"F1:\",f1_score(y_test, y_pred, average='weighted'))\n",
    "print(\"matriu:\",confusion_matrix(y_test, y_pred))\n",
    "print(classification_report(y_test, y_pred))\n",
    "\n",
    "# primer model amb totes les dades també sobreajustat"
   ]
  },
  {
   "cell_type": "code",
   "execution_count": 16,
   "id": "aa491852",
   "metadata": {},
   "outputs": [
    {
     "name": "stdout",
     "output_type": "stream",
     "text": [
      "Millors paràmetres: {'cache_size': 100, 'class_weight': 'balanced', 'kernel': 'linear'}\n",
      "Millor puntuació: 0.9515712418300654\n"
     ]
    }
   ],
   "source": [
    "#Optimització de paràmetres pel SVC i amb dades separades\n",
    "\n",
    "param_grid = {'kernel': ['linear', 'poly', 'rbf', 'sigmoid'],\n",
    "    'class_weight': ['', 'balanced'],\n",
    "    'cache_size': [100, 200, 400]}\n",
    "dt = svm.SVC(degree=2, random_state=42)\n",
    "gssvc2 = GridSearchCV(dt, param_grid, scoring='f1_weighted', cv=5)\n",
    "gssvc2.fit(X_train, y_train)\n",
    "print(\"Millors paràmetres:\", gssvc2.best_params_)\n",
    "print(\"Millor puntuació:\", gssvc2.best_score_)\n",
    "\n",
    "#valors dels paràmetres diferents però pitjor puntuació"
   ]
  },
  {
   "cell_type": "code",
   "execution_count": 17,
   "id": "55f29460",
   "metadata": {},
   "outputs": [
    {
     "name": "stdout",
     "output_type": "stream",
     "text": [
      "Accuracy: 0.9444444444444444\n",
      "Balanced Accuracy: 0.9444444444444445\n",
      "Precision: 0.9513888888888888\n",
      "Recall: 0.9444444444444444\n",
      "F1: 0.9437710437710438\n",
      "matriu: [[15  3  0]\n",
      " [ 0 21  0]\n",
      " [ 0  0 15]]\n",
      "              precision    recall  f1-score   support\n",
      "\n",
      "           1       1.00      0.83      0.91        18\n",
      "           2       0.88      1.00      0.93        21\n",
      "           3       1.00      1.00      1.00        15\n",
      "\n",
      "    accuracy                           0.94        54\n",
      "   macro avg       0.96      0.94      0.95        54\n",
      "weighted avg       0.95      0.94      0.94        54\n",
      "\n"
     ]
    }
   ],
   "source": [
    "# provar SVC amb els millors paràmetres de dades separades\n",
    "\n",
    "modelSVC2 = svm.SVC(kernel='linear', cache_size= 100, random_state=42, class_weight='balanced')\n",
    "modelSVC2.fit(X_train, y_train)\n",
    "y_pred = modelSVC2.predict(X_test)\n",
    "\n",
    "print(\"Accuracy:\", accuracy_score(y_test, y_pred))\n",
    "print(\"Balanced Accuracy:\", balanced_accuracy_score(y_test, y_pred))\n",
    "print(\"Precision:\", precision_score(y_test, y_pred, average='weighted'))\n",
    "print(\"Recall:\",recall_score(y_test, y_pred, average='weighted'))\n",
    "print(\"F1:\",f1_score(y_test, y_pred, average='weighted'))\n",
    "print(\"matriu:\",confusion_matrix(y_test, y_pred))\n",
    "print(classification_report(y_test, y_pred))\n",
    "\n",
    "# es millora molt el primer model"
   ]
  },
  {
   "cell_type": "code",
   "execution_count": 18,
   "id": "5a90883a",
   "metadata": {},
   "outputs": [
    {
     "data": {
      "image/png": "[encoded data removed]",
      "text/plain": [
       "<Figure size 432x288 with 16 Axes>"
      ]
     },
     "metadata": {
      "needs_background": "light"
     },
     "output_type": "display_data"
    }
   ],
   "source": [
    "#veure la distribució de les variables\n",
    "p.iloc[:, 0:13].hist()\n",
    "plt.show()"
   ]
  },
  {
   "cell_type": "code",
   "execution_count": 19,
   "id": "ab47920e",
   "metadata": {},
   "outputs": [
    {
     "name": "stdout",
     "output_type": "stream",
     "text": [
      "Mètriques per DT :\n",
      "Accuracy: 0.9629629629629629\n",
      "Balanced Accuracy: 0.9555555555555556\n",
      "Precision: 0.966183574879227\n",
      "Recall: 0.9629629629629629\n",
      "F1: 0.9624819624819625\n",
      "matriu: [[18  0  0]\n",
      " [ 0 21  0]\n",
      " [ 0  2 13]]\n",
      "              precision    recall  f1-score   support\n",
      "\n",
      "           1       1.00      1.00      1.00        18\n",
      "           2       0.91      1.00      0.95        21\n",
      "           3       1.00      0.87      0.93        15\n",
      "\n",
      "    accuracy                           0.96        54\n",
      "   macro avg       0.97      0.96      0.96        54\n",
      "weighted avg       0.97      0.96      0.96        54\n",
      "\n",
      "\n",
      "Mètriques per KN :\n",
      "Accuracy: 0.9629629629629629\n",
      "Balanced Accuracy: 0.9682539682539683\n",
      "Precision: 0.9666666666666667\n",
      "Recall: 0.9629629629629629\n",
      "F1: 0.9630116959064329\n",
      "matriu: [[18  0  0]\n",
      " [ 2 19  0]\n",
      " [ 0  0 15]]\n",
      "              precision    recall  f1-score   support\n",
      "\n",
      "           1       0.90      1.00      0.95        18\n",
      "           2       1.00      0.90      0.95        21\n",
      "           3       1.00      1.00      1.00        15\n",
      "\n",
      "    accuracy                           0.96        54\n",
      "   macro avg       0.97      0.97      0.97        54\n",
      "weighted avg       0.97      0.96      0.96        54\n",
      "\n",
      "\n",
      "Mètriques per SVC :\n",
      "Accuracy: 0.9814814814814815\n",
      "Balanced Accuracy: 0.9814814814814815\n",
      "Precision: 0.9823232323232324\n",
      "Recall: 0.9814814814814815\n",
      "F1: 0.9814322628276116\n",
      "matriu: [[17  1  0]\n",
      " [ 0 21  0]\n",
      " [ 0  0 15]]\n",
      "              precision    recall  f1-score   support\n",
      "\n",
      "           1       1.00      0.94      0.97        18\n",
      "           2       0.95      1.00      0.98        21\n",
      "           3       1.00      1.00      1.00        15\n",
      "\n",
      "    accuracy                           0.98        54\n",
      "   macro avg       0.98      0.98      0.98        54\n",
      "weighted avg       0.98      0.98      0.98        54\n",
      "\n",
      "\n"
     ]
    },
    {
     "name": "stderr",
     "output_type": "stream",
     "text": [
      "C:\\Users\\Ripley\\AppData\\Local\\Programs\\Python\\Python310\\lib\\site-packages\\sklearn\\preprocessing\\_data.py:2583: UserWarning: n_quantiles (1000) is greater than the total number of samples (124). n_quantiles is set to n_samples.\n",
      "  warnings.warn(\n"
     ]
    }
   ],
   "source": [
    "#Preprocesament:\n",
    "# Quantile per les variables que semblen +- bimodals\n",
    "# Box-Cox per les variables +-desviades\n",
    "# logaritme per les variables +-estirades\n",
    "# estandaritzar totes al final\n",
    "\n",
    "from sklearn_pandas import DataFrameMapper\n",
    "from sklearn import preprocessing\n",
    "\n",
    "mapper = DataFrameMapper([\n",
    "    (['Flavanoids', 'OD280/OD315_of_diluted wines'], [preprocessing.QuantileTransformer(output_distribution='normal', random_state=0), preprocessing.StandardScaler()]),\n",
    "    (['Alcohol', 'Ash', 'Magnesium', 'Total_phenols', 'Proanthocyanins', 'Color_intensity', 'Proline'], [preprocessing.PowerTransformer(method='box-cox', standardize=False), preprocessing.StandardScaler()]),\n",
    "    (['Alcalinity_of_ash','Malic_acid','Nonflavanoid_phenols'], [preprocessing.FunctionTransformer(np.log1p, validate=True), preprocessing.StandardScaler()]),\n",
    "    ([ 'Hue'], preprocessing.StandardScaler())])\n",
    "\n",
    "X_train_transformed = pd.DataFrame(mapper.fit_transform(X_train), columns = ['Flavanoids', 'OD280/OD315_of_diluted wines', 'Alcohol', 'Ash', 'Magnesium', \n",
    "                                                                             'Total_phenols', 'Proanthocyanins', 'Color_intensity', 'Proline',\n",
    "                                                                             'Alcalinity_of_ash','Malic_acid','Nonflavanoid_phenols', 'Hue'])\n",
    "\n",
    "X_train_transformed.describe().transpose()\n",
    "\n",
    "X_test_transformed = pd.DataFrame(mapper.transform(X_test), columns = ['Flavanoids', 'OD280/OD315_of_diluted wines', 'Alcohol', 'Ash', 'Magnesium', \n",
    "                                                                             'Total_phenols', 'Proanthocyanins', 'Color_intensity', 'Proline',\n",
    "                                                                             'Alcalinity_of_ash','Malic_acid','Nonflavanoid_phenols', 'Hue'])\n",
    "\n",
    "estimadors = [\n",
    "        (\"DT\", DecisionTreeClassifier(criterion='entropy', random_state=42, \n",
    "                               class_weight='balanced', max_depth= 5, max_leaf_nodes= 10, \n",
    "                                  min_samples_leaf=1)),\n",
    "        (\"KN\", KNeighborsClassifier(weights = 'distance', leaf_size = 20, n_neighbors = 1)\n",
    "        ),\n",
    "        (\"SVC\", svm.SVC(kernel='linear', cache_size= 100, random_state=42)\n",
    "        )]\n",
    "\n",
    "for i, (nom, clf) in enumerate(estimadors):\n",
    "    clf.fit(X_train_transformed, y_train)      \n",
    "    y_pred = clf.predict(X_test_transformed)\n",
    "    \n",
    "    print('Mètriques per', nom, ':')\n",
    "    print(\"Accuracy:\", accuracy_score(y_test, y_pred))\n",
    "    print(\"Balanced Accuracy:\", balanced_accuracy_score(y_test, y_pred))\n",
    "    print(\"Precision:\", precision_score(y_test, y_pred, average='weighted'))\n",
    "    print(\"Recall:\",recall_score(y_test, y_pred, average='weighted'))\n",
    "    print(\"F1:\",f1_score(y_test, y_pred, average='weighted'))\n",
    "    print(\"matriu:\",confusion_matrix(y_test, y_pred))\n",
    "    print(classification_report(y_test, y_pred))\n",
    "    print()\n",
    "    \n",
    "# Els tres models milloran molt però el millor es el SVC"
   ]
  },
  {
   "cell_type": "code",
   "execution_count": 20,
   "id": "6cad829b",
   "metadata": {},
   "outputs": [
    {
     "name": "stdout",
     "output_type": "stream",
     "text": [
      "Remostreig de cada classe Counter({1: 50, 2: 50, 3: 50})\n"
     ]
    }
   ],
   "source": [
    "#remostreig de les classes excepte la majoritària\n",
    "from collections import Counter\n",
    "from imblearn.over_sampling import SMOTE \n",
    "\n",
    "\n",
    "sm = SMOTE(random_state=42, sampling_strategy='not majority')\n",
    "\n",
    "X_train_smote, y_train_smote = sm.fit_resample(X_train_transformed , y_train)\n",
    "\n",
    "print('Remostreig de cada classe %s' % Counter(y_train_smote))"
   ]
  },
  {
   "cell_type": "code",
   "execution_count": 21,
   "id": "8c3b06b7",
   "metadata": {},
   "outputs": [
    {
     "name": "stdout",
     "output_type": "stream",
     "text": [
      "Mètriques per DT :\n",
      "Accuracy: 0.9444444444444444\n",
      "Balanced Accuracy: 0.9396825396825396\n",
      "Precision: 0.9471026049973418\n",
      "Recall: 0.9444444444444444\n",
      "F1: 0.9440179382039848\n",
      "matriu: [[18  0  0]\n",
      " [ 1 20  0]\n",
      " [ 0  2 13]]\n",
      "              precision    recall  f1-score   support\n",
      "\n",
      "           1       0.95      1.00      0.97        18\n",
      "           2       0.91      0.95      0.93        21\n",
      "           3       1.00      0.87      0.93        15\n",
      "\n",
      "    accuracy                           0.94        54\n",
      "   macro avg       0.95      0.94      0.94        54\n",
      "weighted avg       0.95      0.94      0.94        54\n",
      "\n",
      "\n",
      "Mètriques per KN :\n",
      "Accuracy: 0.9629629629629629\n",
      "Balanced Accuracy: 0.9682539682539683\n",
      "Precision: 0.9666666666666667\n",
      "Recall: 0.9629629629629629\n",
      "F1: 0.9630116959064329\n",
      "matriu: [[18  0  0]\n",
      " [ 2 19  0]\n",
      " [ 0  0 15]]\n",
      "              precision    recall  f1-score   support\n",
      "\n",
      "           1       0.90      1.00      0.95        18\n",
      "           2       1.00      0.90      0.95        21\n",
      "           3       1.00      1.00      1.00        15\n",
      "\n",
      "    accuracy                           0.96        54\n",
      "   macro avg       0.97      0.97      0.97        54\n",
      "weighted avg       0.97      0.96      0.96        54\n",
      "\n",
      "\n",
      "Mètriques per SVC :\n",
      "Accuracy: 0.9814814814814815\n",
      "Balanced Accuracy: 0.9814814814814815\n",
      "Precision: 0.9823232323232324\n",
      "Recall: 0.9814814814814815\n",
      "F1: 0.9814322628276116\n",
      "matriu: [[17  1  0]\n",
      " [ 0 21  0]\n",
      " [ 0  0 15]]\n",
      "              precision    recall  f1-score   support\n",
      "\n",
      "           1       1.00      0.94      0.97        18\n",
      "           2       0.95      1.00      0.98        21\n",
      "           3       1.00      1.00      1.00        15\n",
      "\n",
      "    accuracy                           0.98        54\n",
      "   macro avg       0.98      0.98      0.98        54\n",
      "weighted avg       0.98      0.98      0.98        54\n",
      "\n",
      "\n"
     ]
    }
   ],
   "source": [
    "#Comprobar si aquest procesament millora els models\n",
    "\n",
    "estimadors = [\n",
    "        (\"DT\", DecisionTreeClassifier(criterion='entropy', random_state=42, \n",
    "                               class_weight='balanced', max_depth= 5, max_leaf_nodes= 10, \n",
    "                                  min_samples_leaf=1)),\n",
    "        (\"KN\", KNeighborsClassifier(weights = 'distance', leaf_size = 20, n_neighbors = 1)\n",
    "        ),\n",
    "        (\"SVC\", svm.SVC(kernel='linear', cache_size= 100, random_state=42)\n",
    "        )]\n",
    "\n",
    "for i, (nom, clf) in enumerate(estimadors):\n",
    "    clf.fit(X_train_smote, y_train_smote)      \n",
    "    y_pred = clf.predict(X_test_transformed)\n",
    "    \n",
    "    print('Mètriques per', nom, ':')\n",
    "    print(\"Accuracy:\", accuracy_score(y_test, y_pred))\n",
    "    print(\"Balanced Accuracy:\", balanced_accuracy_score(y_test, y_pred))\n",
    "    print(\"Precision:\", precision_score(y_test, y_pred, average='weighted'))\n",
    "    print(\"Recall:\",recall_score(y_test, y_pred, average='weighted'))\n",
    "    print(\"F1:\",f1_score(y_test, y_pred, average='weighted'))\n",
    "    print(\"matriu:\",confusion_matrix(y_test, y_pred))\n",
    "    print(classification_report(y_test, y_pred))\n",
    "    clf.score(X_test_transformed, y_test)\n",
    "    print()\n",
    "    \n",
    "#No s'aconsegueix millorar cap dels tres models, de fet el model DT empitjora i els altres dos es queden igual"
   ]
  },
  {
   "cell_type": "code",
   "execution_count": null,
   "id": "98612b2b",
   "metadata": {},
   "outputs": [],
   "source": [
    "# ******El millor model sembla que és el SVC*****"
   ]
  }
 ],
 "metadata": {
  "kernelspec": {
   "display_name": "Python 3 (ipykernel)",
   "language": "python",
   "name": "python3"
  },
  "language_info": {
   "codemirror_mode": {
    "name": "ipython",
    "version": 3
   },
   "file_extension": ".py",
   "mimetype": "text/x-python",
   "name": "python",
   "nbconvert_exporter": "python",
   "pygments_lexer": "ipython3",
   "version": "3.10.4"
  },
  "latex_envs": {
   "LaTeX_envs_menu_present": true,
   "autoclose": false,
   "autocomplete": true,
   "bibliofile": "biblio.bib",
   "cite_by": "apalike",
   "current_citInitial": 1,
   "eqLabelWithNumbers": true,
   "eqNumInitial": 1,
   "hotkeys": {
    "equation": "Ctrl-E",
    "itemize": "Ctrl-I"
   },
   "labels_anchors": false,
   "latex_user_defs": false,
   "report_style_numbering": false,
   "user_envs_cfg": false
  }
 },
 "nbformat": 4,
 "nbformat_minor": 5
}
