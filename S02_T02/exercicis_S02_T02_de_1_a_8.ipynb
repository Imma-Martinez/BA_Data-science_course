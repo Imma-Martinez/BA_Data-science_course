{
 "cells": [
  {
   "cell_type": "code",
   "execution_count": 50,
   "id": "f51cc84a",
   "metadata": {},
   "outputs": [
    {
     "name": "stdout",
     "output_type": "stream",
     "text": [
      "La forma de l'array és (8,)\n",
      "El array té 1 dimensions\n"
     ]
    }
   ],
   "source": [
    "import numpy as np\n",
    "\n",
    "array1 = np.array([2, 6, 8, 10, 34, 56, 21, 1], np.int64)\n",
    "print(\"La forma de l'array és\", array1.shape)\n",
    "print(\"El array té\", array1.ndim, \"dimensions\")"
   ]
  },
  {
   "cell_type": "code",
   "execution_count": 11,
   "id": "52c796f2",
   "metadata": {},
   "outputs": [
    {
     "name": "stdout",
     "output_type": "stream",
     "text": [
      "El valor mitjà de l'array és 17.25\n"
     ]
    }
   ],
   "source": [
    "print(\"El valor mitjà de l'array és\", np.mean(array1))"
   ]
  },
  {
   "cell_type": "code",
   "execution_count": 19,
   "id": "2913102f",
   "metadata": {},
   "outputs": [
    {
     "name": "stdout",
     "output_type": "stream",
     "text": [
      "El valor més alt de l'array és 99\n",
      "Els valors més alt de l'array en la dimensió columnes són [99 99 56 32 78]\n",
      "Els valors més alt de l'array en la dimensió files són [34 56 99 99 78]\n"
     ]
    }
   ],
   "source": [
    "array5x5 = np.array([[2, 6, 8, 10, 34], [3, 6, 56, 21, 1], [2, 99, 32, 1, 0], [99, 45, 9, 20, 56],\n",
    "                    [78, 69, 43, 32, 78]], np.int64)\n",
    "print(\"El valor més alt de l'array és\", np.amax(array5x5))\n",
    "\n",
    "print(\"Els valors més alt de l'array en la dimensió columnes són\", np.amax(array5x5,axis=0))\n",
    "print(\"Els valors més alt de l'array en la dimensió files són\", np.amax(array5x5,axis=1))"
   ]
  },
  {
   "cell_type": "code",
   "execution_count": 21,
   "id": "a390c761",
   "metadata": {},
   "outputs": [
    {
     "name": "stdout",
     "output_type": "stream",
     "text": [
      "[[ 2  4  6]\n",
      " [ 2  6 10]]\n",
      "[[3 4 5]\n",
      " [3 6 9]]\n",
      "[4 5 6]\n"
     ]
    },
    {
     "ename": "ValueError",
     "evalue": "operands could not be broadcast together with shapes (2,3) (2,) ",
     "output_type": "error",
     "traceback": [
      "\u001b[1;31m---------------------------------------------------------------------------\u001b[0m",
      "\u001b[1;31mValueError\u001b[0m                                Traceback (most recent call last)",
      "Input \u001b[1;32mIn [21]\u001b[0m, in \u001b[0;36m<cell line: 15>\u001b[1;34m()\u001b[0m\n\u001b[0;32m     12\u001b[0m \u001b[38;5;28mprint\u001b[39m(c3)\n\u001b[0;32m     14\u001b[0m b3 \u001b[38;5;241m=\u001b[39m np\u001b[38;5;241m.\u001b[39marray([\u001b[38;5;241m1\u001b[39m, \u001b[38;5;241m2\u001b[39m])\n\u001b[1;32m---> 15\u001b[0m C4 \u001b[38;5;241m=\u001b[39m \u001b[43mA1\u001b[49m\u001b[43m \u001b[49m\u001b[38;5;241;43m+\u001b[39;49m\u001b[43m \u001b[49m\u001b[43mb3\u001b[49m\n\u001b[0;32m     16\u001b[0m \u001b[38;5;28mprint\u001b[39m(C4)\n",
      "\u001b[1;31mValueError\u001b[0m: operands could not be broadcast together with shapes (2,3) (2,) "
     ]
    }
   ],
   "source": [
    "A1 = np.array([[1, 2, 3], [1, 4, 7]], np.int64)\n",
    "b1 = np.array([1, 2, 3], np.int64)\n",
    "C = A1 + b1\n",
    "print(C)\n",
    "\n",
    "b2 = 2\n",
    "C2 = A1 + b2\n",
    "print(C2)\n",
    "\n",
    "A2 = 3\n",
    "c3 = A2 + b1\n",
    "print(c3)\n",
    "\n",
    "b3 = np.array([1, 2])\n",
    "C4 = A1 + b3\n",
    "print(C4)"
   ]
  },
  {
   "cell_type": "code",
   "execution_count": 38,
   "id": "3c60a4f2",
   "metadata": {},
   "outputs": [
    {
     "name": "stdout",
     "output_type": "stream",
     "text": [
      "La suma dels valors de la 3ra columna de l'array C2 és 14\n",
      "La suma dels valors de la 1ra fila de l'array C2 és 12\n",
      "La suma de tots els valors de la columna i la fila anterior és 26\n"
     ]
    }
   ],
   "source": [
    "sumac = 0\n",
    "columna = []\n",
    "for l in range(0,C2.ndim):\n",
    "    columna.append(C2[l, 2])\n",
    "    sumac += C2[l, 2]\n",
    "print(\"La suma dels valors de la 3ra columna de l'array C2 és\", sumac)\n",
    "sumaf = 0\n",
    "fila = []\n",
    "for l in range(0,len(C2[0])):\n",
    "    fila.append(C2[0, l])\n",
    "    sumaf += C2[0, l]\n",
    "print(\"La suma dels valors de la 1ra fila de l'array C2 és\", sumaf)\n",
    "print(\"La suma de tots els valors de la columna i la fila anterior és\", sumac+sumaf)"
   ]
  },
  {
   "cell_type": "code",
   "execution_count": 30,
   "id": "18d097d4",
   "metadata": {
    "scrolled": true
   },
   "outputs": [
    {
     "data": {
      "text/plain": [
       "array([[False,  True, False],\n",
       "       [False, False, False]])"
      ]
     },
     "execution_count": 30,
     "metadata": {},
     "output_type": "execute_result"
    }
   ],
   "source": [
    "C2%4 == 0\n"
   ]
  },
  {
   "cell_type": "code",
   "execution_count": 32,
   "id": "79067b4c",
   "metadata": {},
   "outputs": [
    {
     "data": {
      "text/plain": [
       "array([4], dtype=int64)"
      ]
     },
     "execution_count": 32,
     "metadata": {},
     "output_type": "execute_result"
    }
   ],
   "source": [
    "C2[C2%4 == 0]"
   ]
  },
  {
   "cell_type": "code",
   "execution_count": 12,
   "id": "099597a1",
   "metadata": {},
   "outputs": [
    {
     "data": {
      "image/png": "[encoded data removed]",
      "text/plain": [
       "<Figure size 432x288 with 1 Axes>"
      ]
     },
     "metadata": {
      "needs_background": "light"
     },
     "output_type": "display_data"
    }
   ],
   "source": [
    "#%matplotlib inline\n",
    "import numpy as np\n",
    "import matplotlib.pyplot as plt\n",
    "import matplotlib.image as mpimg\n",
    "\n",
    "img = mpimg.imread(\"original.png\")\n",
    "img[:,:,2] = 0\n",
    "azul = plt.imshow(img[:,:,:])\n",
    "plt.axis(\"off\")\n",
    "plt.show()\n",
    "mpimg.imsave (\"senseblau.png\", img) \n"
   ]
  },
  {
   "cell_type": "code",
   "execution_count": 13,
   "id": "778241ab",
   "metadata": {},
   "outputs": [
    {
     "data": {
      "image/png": "[encoded data removed]",
      "text/plain": [
       "<Figure size 432x288 with 1 Axes>"
      ]
     },
     "metadata": {
      "needs_background": "light"
     },
     "output_type": "display_data"
    }
   ],
   "source": [
    "import numpy as np\n",
    "import matplotlib.pyplot as plt\n",
    "import matplotlib.image as mpimg\n",
    "\n",
    "img = mpimg.imread(\"original.png\")\n",
    "img[:,:,1] = 0\n",
    "azul = plt.imshow(img[:,:,:])\n",
    "plt.axis(\"off\")\n",
    "plt.show()\n",
    "mpimg.imsave (\"senseverd.png\", img) \n",
    "         "
   ]
  },
  {
   "cell_type": "code",
   "execution_count": null,
   "id": "b8561fc0",
   "metadata": {},
   "outputs": [],
   "source": []
  }
 ],
 "metadata": {
  "kernelspec": {
   "display_name": "Python 3 (ipykernel)",
   "language": "python",
   "name": "python3"
  },
  "language_info": {
   "codemirror_mode": {
    "name": "ipython",
    "version": 3
   },
   "file_extension": ".py",
   "mimetype": "text/x-python",
   "name": "python",
   "nbconvert_exporter": "python",
   "pygments_lexer": "ipython3",
   "version": "3.10.4"
  },
  "latex_envs": {
   "LaTeX_envs_menu_present": true,
   "autoclose": false,
   "autocomplete": true,
   "bibliofile": "biblio.bib",
   "cite_by": "apalike",
   "current_citInitial": 1,
   "eqLabelWithNumbers": true,
   "eqNumInitial": 1,
   "hotkeys": {
    "equation": "Ctrl-E",
    "itemize": "Ctrl-I"
   },
   "labels_anchors": false,
   "latex_user_defs": false,
   "report_style_numbering": false,
   "user_envs_cfg": false
  }
 },
 "nbformat": 4,
 "nbformat_minor": 5
}
