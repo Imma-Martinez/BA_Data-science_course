{
 "cells": [
  {
   "cell_type": "code",
   "execution_count": 11,
   "id": "b8fe1945",
   "metadata": {},
   "outputs": [
    {
     "name": "stdout",
     "output_type": "stream",
     "text": [
      "Si us plau entre un número: 8\n",
      "Notable\n"
     ]
    }
   ],
   "source": [
    "number = int(input(\"Si us plau entri un número: \"))\n",
    "\n",
    "if number < 5:\n",
    "    print(\"Suspès\")\n",
    "elif number < 7:\n",
    "    print(\"Aprovat\")\n",
    "elif number < 9: \n",
    "    print(\"Notable\")\n",
    "else:\n",
    "    print(\"Excel.lent\")"
   ]
  },
  {
   "cell_type": "code",
   "execution_count": 18,
   "id": "3d08e711",
   "metadata": {},
   "outputs": [
    {
     "name": "stdout",
     "output_type": "stream",
     "text": [
      "Si us plau entri un número: 78\n",
      "Si us plau entri un altre número: 45\n",
      "El primer número és més gran que el segon\n"
     ]
    }
   ],
   "source": [
    "number1 = int(input(\"Si us plau entri un número: \"))\n",
    "number2 = int(input(\"Si us plau entri un altre número: \"))\n",
    "if number1 == number2:\n",
    "    print(\"Tots dos números són iguals\")\n",
    "elif number1 > number2:\n",
    "    x = \"primer\"\n",
    "    y = \"segon\"\n",
    "    print(\"El {0} número és més gran que el {1}\".format(x,y))\n",
    "else:\n",
    "    y = \"primer\"\n",
    "    x = \"segon\"\n",
    "    print(\"El {0} número és més gran que el {1}\".format(x,y))"
   ]
  },
  {
   "cell_type": "code",
   "execution_count": 32,
   "id": "8dbafe2b",
   "metadata": {},
   "outputs": [
    {
     "name": "stdout",
     "output_type": "stream",
     "text": [
      "Si us plau entri un nom: imma\n",
      "Si us plau entri un altre número: 4\n",
      "imma imma imma imma\n"
     ]
    }
   ],
   "source": [
    "nom = input(\"Si us plau entri un nom: \")\n",
    "number2 = int(input(\"Si us plau entri un altre número: \"))\n",
    "if number2 <= 0:\n",
    "    print(\"Error, el número ha de ser més gran de 0\")\n",
    "else:\n",
    "    contador = nom\n",
    "    for i in range(number2-1):\n",
    "        contador = contador + \" \" + nom \n",
    "print(contador)     "
   ]
  },
  {
   "cell_type": "code",
   "execution_count": 61,
   "id": "25efa4a4",
   "metadata": {},
   "outputs": [
    {
     "name": "stdout",
     "output_type": "stream",
     "text": [
      "La llista és simètrica de 0 elements\n"
     ]
    }
   ],
   "source": [
    "p = []\n",
    "\n",
    "if p == []:\n",
    "    print(\"La llista és simètrica de 0 elements\")\n",
    "elif len(p) != len(p[0]):\n",
    "    print(\"La llista no és simètrica\")\n",
    "else:\n",
    "    contas = 0\n",
    "    for i in range(len(p)):\n",
    "        for j in range(len(p)):\n",
    "            if p[i][j] == p[j][i]:\n",
    "                contas += 1\n",
    "    if contas == len(p)**2:\n",
    "        print(\"La llista és simètrica de\", len(p)**2, \"elements\")  \n",
    "    else:\n",
    "        print(\"La llista no és simètrica\")\n",
    "    "
   ]
  },
  {
   "cell_type": "code",
   "execution_count": 64,
   "id": "a0a8662f",
   "metadata": {},
   "outputs": [
    {
     "name": "stdout",
     "output_type": "stream",
     "text": [
      "Hi han 4 números que coincideixen el seu valor amb la seva posició a la llista\n"
     ]
    }
   ],
   "source": [
    "p = [1, 2, 2, 3, 4, 5]\n",
    "comt= 0\n",
    "for i in range(len(p)):\n",
    "    if i == p[i]:\n",
    "        comt += 1\n",
    "print(\"Hi han {} números que coincideixen el seu valor amb la seva posició a la llista\".format(comt))"
   ]
  },
  {
   "cell_type": "code",
   "execution_count": null,
   "id": "8a83a5e3",
   "metadata": {},
   "outputs": [],
   "source": []
  }
 ],
 "metadata": {
  "kernelspec": {
   "display_name": "Python 3 (ipykernel)",
   "language": "python",
   "name": "python3"
  },
  "language_info": {
   "codemirror_mode": {
    "name": "ipython",
    "version": 3
   },
   "file_extension": ".py",
   "mimetype": "text/x-python",
   "name": "python",
   "nbconvert_exporter": "python",
   "pygments_lexer": "ipython3",
   "version": "3.10.4"
  },
  "latex_envs": {
   "LaTeX_envs_menu_present": true,
   "autoclose": false,
   "autocomplete": true,
   "bibliofile": "biblio.bib",
   "cite_by": "apalike",
   "current_citInitial": 1,
   "eqLabelWithNumbers": true,
   "eqNumInitial": 1,
   "hotkeys": {
    "equation": "Ctrl-E",
    "itemize": "Ctrl-I"
   },
   "labels_anchors": false,
   "latex_user_defs": false,
   "report_style_numbering": false,
   "user_envs_cfg": false
  }
 },
 "nbformat": 4,
 "nbformat_minor": 5
}
